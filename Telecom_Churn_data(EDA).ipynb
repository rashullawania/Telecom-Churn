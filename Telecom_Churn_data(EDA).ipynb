{
  "nbformat": 4,
  "nbformat_minor": 0,
  "metadata": {
    "colab": {
      "private_outputs": true,
      "provenance": [],
      "include_colab_link": true
    },
    "kernelspec": {
      "name": "python3",
      "display_name": "Python 3"
    },
    "language_info": {
      "name": "python"
    }
  },
  "cells": [
    {
      "cell_type": "markdown",
      "metadata": {
        "id": "view-in-github",
        "colab_type": "text"
      },
      "source": [
        "<a href=\"https://colab.research.google.com/github/rashullawania/Telecom-Churn/blob/main/Telecom_Churn_data(EDA).ipynb\" target=\"_parent\"><img src=\"https://colab.research.google.com/assets/colab-badge.svg\" alt=\"Open In Colab\"/></a>"
      ]
    },
    {
      "cell_type": "markdown",
      "source": [
        "# **Project Name**    - \n",
        "\n"
      ],
      "metadata": {
        "id": "vncDsAP0Gaoa"
      }
    },
    {
      "cell_type": "markdown",
      "source": [
        "##### **Project Type**    - EXPLORATION DATA ANALYSIS\n"
      ],
      "metadata": {
        "id": "beRrZCGUAJYm"
      }
    },
    {
      "cell_type": "markdown",
      "source": [
        "# **Project Summary -**"
      ],
      "metadata": {
        "id": "FJNUwmbgGyua"
      }
    },
    {
      "cell_type": "markdown",
      "source": [
        "Orange SA,formely France Telecom SA is a french multinational telecommunication corporation.The orange Telecom's churn data set consist of cleaned customer activity data and solve problem uses various visualization plots and solve business problem"
      ],
      "metadata": {
        "id": "F6v_1wHtG2nS"
      }
    },
    {
      "cell_type": "markdown",
      "source": [
        "# **GitHub Link -**"
      ],
      "metadata": {
        "id": "w6K7xa23Elo4"
      }
    },
    {
      "cell_type": "markdown",
      "source": [
        "https://github.com/rashullawania/Model_deployment/blob/main/Telecom_Churn(EDA).ipynb\n",
        "\n",
        ">:\n",
        "\n"
      ],
      "metadata": {
        "id": "h1o69JH3Eqqn"
      }
    },
    {
      "cell_type": "markdown",
      "source": [
        "# **Problem Statement**\n",
        "The Orange Telecom's churn dataset consist of cleaned customer activity data(Features) along with a churn label specifying whether a customer cancelled the subscription , explore and analyze to discover key factors \n",
        "responsible for customer churn  and come up ways to recommendation customer satisfaction\n",
        "\n",
        "\n",
        "\n"
      ],
      "metadata": {
        "id": "yQaldy8SH6Dl"
      }
    },
    {
      "cell_type": "markdown",
      "source": [],
      "metadata": {
        "id": "DpeJGUA3kjGy"
      }
    },
    {
      "cell_type": "markdown",
      "source": [
        "#### **Define Your Business Objective?**"
      ],
      "metadata": {
        "id": "PH-0ReGfmX4f"
      }
    },
    {
      "cell_type": "markdown",
      "source": [
        "In the telecom industry, customers are able to choose from multiple service providers and actively switch from one operator to another. In this highly competitive market, the telecommunications industry experiences an average  annual churn rate. Given the fact that it costs 5-10 times more to acquire a new customer than to retain an existing one, customer retention has now become even more important than customer acquisition. So we need to analyse telecom industry data and predict high value customers who are at high risk of churn and identify main indicators of churn. In this project, you will analyse customer-level data of a leading telecom firm, ."
      ],
      "metadata": {
        "id": "PhDvGCAqmjP1"
      }
    },
    {
      "cell_type": "markdown",
      "source": [
        "# ***Let's Begin !***"
      ],
      "metadata": {
        "id": "O_i_v8NEhb9l"
      }
    },
    {
      "cell_type": "markdown",
      "source": [
        "## ***1. Know Your Data***"
      ],
      "metadata": {
        "id": "HhfV-JJviCcP"
      }
    },
    {
      "cell_type": "markdown",
      "source": [],
      "metadata": {
        "id": "k36GnQTNuueb"
      }
    },
    {
      "cell_type": "markdown",
      "source": [
        "### Import Libraries"
      ],
      "metadata": {
        "id": "Y3lxredqlCYt"
      }
    },
    {
      "cell_type": "code",
      "source": [
        "# Import Libraries"
      ],
      "metadata": {
        "id": "M8Vqi-pPk-HR"
      },
      "execution_count": null,
      "outputs": []
    },
    {
      "cell_type": "code",
      "source": [
        "import numpy as np\n",
        "import pandas as pd\n",
        "import matplotlib.pyplot as plt\n",
        "import seaborn as sns"
      ],
      "metadata": {
        "id": "MqHpoViqeWNC"
      },
      "execution_count": null,
      "outputs": []
    },
    {
      "cell_type": "markdown",
      "source": [
        "### Dataset Loading"
      ],
      "metadata": {
        "id": "3RnN4peoiCZX"
      }
    },
    {
      "cell_type": "code",
      "source": [
        "# Load Dataset"
      ],
      "metadata": {
        "id": "4CkvbW_SlZ_R"
      },
      "execution_count": null,
      "outputs": []
    },
    {
      "cell_type": "code",
      "source": [
        "from google.colab import drive"
      ],
      "metadata": {
        "id": "0vKzQZpiegnI"
      },
      "execution_count": null,
      "outputs": []
    },
    {
      "cell_type": "code",
      "source": [
        "drive.mount('/content/drive/')"
      ],
      "metadata": {
        "id": "24_3Teq0ffzO"
      },
      "execution_count": null,
      "outputs": []
    },
    {
      "cell_type": "code",
      "source": [
        "data= pd.read_csv('//content//drive//MyDrive//Project EDA//Telecom Churn.csv')"
      ],
      "metadata": {
        "id": "sQmWRVtNgeUm"
      },
      "execution_count": null,
      "outputs": []
    },
    {
      "cell_type": "markdown",
      "source": [
        "### Dataset First View"
      ],
      "metadata": {
        "id": "x71ZqKXriCWQ"
      }
    },
    {
      "cell_type": "code",
      "source": [
        "# Dataset First Look"
      ],
      "metadata": {
        "id": "LWNFOSvLl09H"
      },
      "execution_count": null,
      "outputs": []
    },
    {
      "cell_type": "code",
      "source": [
        "data.head()"
      ],
      "metadata": {
        "id": "vu1qmPVUg-T7"
      },
      "execution_count": null,
      "outputs": []
    },
    {
      "cell_type": "markdown",
      "source": [
        "### Dataset Rows & Columns count"
      ],
      "metadata": {
        "id": "7hBIi_osiCS2"
      }
    },
    {
      "cell_type": "code",
      "source": [
        "# Dataset Rows & Columns count"
      ],
      "metadata": {
        "id": "Kllu7SJgmLij"
      },
      "execution_count": null,
      "outputs": []
    },
    {
      "cell_type": "code",
      "source": [
        "data.shape"
      ],
      "metadata": {
        "id": "dHSJ0vyGcTDl"
      },
      "execution_count": null,
      "outputs": []
    },
    {
      "cell_type": "markdown",
      "source": [
        "### Dataset Information"
      ],
      "metadata": {
        "id": "JlHwYmJAmNHm"
      }
    },
    {
      "cell_type": "code",
      "source": [
        "# Dataset Info"
      ],
      "metadata": {
        "id": "e9hRXRi6meOf"
      },
      "execution_count": null,
      "outputs": []
    },
    {
      "cell_type": "code",
      "source": [
        "data.info()"
      ],
      "metadata": {
        "id": "hpY3qIUVhF4k"
      },
      "execution_count": null,
      "outputs": []
    },
    {
      "cell_type": "markdown",
      "source": [
        "#### Duplicate Values"
      ],
      "metadata": {
        "id": "35m5QtbWiB9F"
      }
    },
    {
      "cell_type": "code",
      "source": [
        "# Dataset Duplicate Value Count"
      ],
      "metadata": {
        "id": "1sLdpKYkmox0"
      },
      "execution_count": null,
      "outputs": []
    },
    {
      "cell_type": "code",
      "source": [
        "data.columns.duplicated().any()"
      ],
      "metadata": {
        "id": "U6CVTU9whLSB"
      },
      "execution_count": null,
      "outputs": []
    },
    {
      "cell_type": "markdown",
      "source": [
        "#### Missing Values/Null Values"
      ],
      "metadata": {
        "id": "PoPl-ycgm1ru"
      }
    },
    {
      "cell_type": "code",
      "source": [
        "# Missing Values/Null Values Count"
      ],
      "metadata": {
        "id": "GgHWkxvamxVg"
      },
      "execution_count": null,
      "outputs": []
    },
    {
      "cell_type": "code",
      "source": [
        "data.isnull().sum()"
      ],
      "metadata": {
        "id": "habBzH_qhpuf"
      },
      "execution_count": null,
      "outputs": []
    },
    {
      "cell_type": "code",
      "source": [
        "# Visualizing the missing values"
      ],
      "metadata": {
        "id": "3q5wnI3om9sJ"
      },
      "execution_count": null,
      "outputs": []
    },
    {
      "cell_type": "code",
      "source": [
        "plt.figure(figsize=(10,8))\n",
        "sns.heatmap(data.isnull())"
      ],
      "metadata": {
        "id": "ul0p2PvRiebk"
      },
      "execution_count": null,
      "outputs": []
    },
    {
      "cell_type": "markdown",
      "source": [
        "### What did you know about your dataset?"
      ],
      "metadata": {
        "id": "H0kj-8xxnORC"
      }
    },
    {
      "cell_type": "markdown",
      "source": [
        "\n",
        "\n",
        ">We have given dataset in CSV file firstly import required libraries using in explaration data and in this dataset 3333 rows and 20 columns and this dataset contained integers, Float , booleans values & checkfor duplicate and missing  value not present in data using heatmap.  \n",
        "\n"
      ],
      "metadata": {
        "id": "gfoNAAC-nUe_"
      }
    },
    {
      "cell_type": "markdown",
      "source": [
        "## ***2. Understanding Your Variables***"
      ],
      "metadata": {
        "id": "nA9Y7ga8ng1Z"
      }
    },
    {
      "cell_type": "code",
      "source": [
        "# Dataset Columns"
      ],
      "metadata": {
        "id": "j7xfkqrt5Ag5"
      },
      "execution_count": null,
      "outputs": []
    },
    {
      "cell_type": "code",
      "source": [
        "data.columns"
      ],
      "metadata": {
        "id": "2-sdOWVZjHtR"
      },
      "execution_count": null,
      "outputs": []
    },
    {
      "cell_type": "code",
      "source": [
        "# Dataset Describe"
      ],
      "metadata": {
        "id": "DnOaZdaE5Q5t"
      },
      "execution_count": null,
      "outputs": []
    },
    {
      "cell_type": "code",
      "source": [
        "data.describe()"
      ],
      "metadata": {
        "id": "aeRUexssjPoB"
      },
      "execution_count": null,
      "outputs": []
    },
    {
      "cell_type": "markdown",
      "source": [
        "### Variables Description "
      ],
      "metadata": {
        "id": "PBTbrJXOngz2"
      }
    },
    {
      "cell_type": "markdown",
      "source": [
        "In this description mean value is given for all numerical values "
      ],
      "metadata": {
        "id": "aJV4KIxSnxay"
      }
    },
    {
      "cell_type": "markdown",
      "source": [
        "### Check Unique Values for each variable."
      ],
      "metadata": {
        "id": "u3PMJOP6ngxN"
      }
    },
    {
      "cell_type": "code",
      "source": [
        "# Check Unique Values for each variable."
      ],
      "metadata": {
        "id": "zms12Yq5n-jE"
      },
      "execution_count": null,
      "outputs": []
    },
    {
      "cell_type": "code",
      "source": [
        "data['State'].unique()"
      ],
      "metadata": {
        "id": "cgLFVRS3sv43"
      },
      "execution_count": null,
      "outputs": []
    },
    {
      "cell_type": "code",
      "source": [
        "data['International plan'].unique()"
      ],
      "metadata": {
        "id": "pdBQD7ajtyFL"
      },
      "execution_count": null,
      "outputs": []
    },
    {
      "cell_type": "code",
      "source": [
        "data['Churn'].unique()"
      ],
      "metadata": {
        "id": "_u96UIbBuGeX"
      },
      "execution_count": null,
      "outputs": []
    },
    {
      "cell_type": "markdown",
      "source": [
        "## 3. ***Data Wrangling***"
      ],
      "metadata": {
        "id": "dauF4eBmngu3"
      }
    },
    {
      "cell_type": "markdown",
      "source": [
        "### Data Wrangling Code"
      ],
      "metadata": {
        "id": "bKJF3rekwFvQ"
      }
    },
    {
      "cell_type": "code",
      "source": [
        "# area code should not be an int. Lets change the data type to object\n",
        "data['Area code'] = data['Area code'].astype('object')"
      ],
      "metadata": {
        "id": "eaANtEpZUgNE"
      },
      "execution_count": null,
      "outputs": []
    },
    {
      "cell_type": "code",
      "source": [
        "data.dtypes"
      ],
      "metadata": {
        "id": "wunfXio5Uz3z"
      },
      "execution_count": null,
      "outputs": []
    },
    {
      "cell_type": "code",
      "source": [
        "data.describe(include=['object','bool'])"
      ],
      "metadata": {
        "id": "SuFnMe3pU_Sf"
      },
      "execution_count": null,
      "outputs": []
    },
    {
      "cell_type": "code",
      "source": [
        "# Mean numbers across the two different classes\n",
        "data.groupby('Churn').mean()"
      ],
      "metadata": {
        "id": "QP9RGoSfU_oL"
      },
      "execution_count": null,
      "outputs": []
    },
    {
      "cell_type": "code",
      "source": [
        "data['Total minutes'] = data['Total day minutes'] + data['Total eve minutes'] + data['Total night minutes'] + data['Total intl minutes']\n",
        "plt.figure(figsize=(15, 8)) # увеличим размер картинки\n",
        "\n",
        "data.groupby('State')['Total minutes'].sum().sort_values(ascending=False).plot(kind='bar', color='green')\n",
        "\n",
        "plt.xlabel(\"State\", size=12)\n",
        "plt.ylabel(\"Total minutes\", size=12)\n",
        "\n"
      ],
      "metadata": {
        "id": "lcV08LIvoOzH"
      },
      "execution_count": null,
      "outputs": []
    },
    {
      "cell_type": "code",
      "source": [
        "data['Total calls'] = data['Total day calls'] + data['Total eve calls'] + data['Total night calls'] + data['Total intl calls']\n",
        "plt.figure(figsize=(15, 8)) \n",
        "\n",
        "data.groupby('State')['Total calls'].sum().sort_values(ascending=False).plot(kind='bar', color='green')\n",
        "\n",
        "plt.xlabel(\"State\", size=12)\n",
        "plt.ylabel(\"Total calls\", size=12)\n",
        "\n"
      ],
      "metadata": {
        "id": "hYQSDb4soPA6"
      },
      "execution_count": null,
      "outputs": []
    },
    {
      "cell_type": "code",
      "source": [
        "data['Total charge'] = data['Total day charge'] + data['Total eve charge'] + data['Total night charge'] + data['Total intl charge']\n",
        "plt.figure(figsize=(15, 8)) \n",
        "\n",
        "data.groupby('State')['Total charge'].sum().sort_values(ascending=False).plot(kind='bar', color='green')\n",
        "\n",
        "plt.xlabel(\"State\", size=12)\n",
        "plt.ylabel(\"Total charge\", size=12)\n",
        "\n"
      ],
      "metadata": {
        "id": "7Zv1a8z1sSwk"
      },
      "execution_count": null,
      "outputs": []
    },
    {
      "cell_type": "markdown",
      "source": [
        "The data must be interpreted and manipulated to be accessible by humans to clean and map it to provide valuable insights. The need for data manipulation becomes even more important with a growing volume of data being used and processed and most of customer in 'WV' State and take time in calling and minimum area code is '1'"
      ],
      "metadata": {
        "id": "MSa1f5Uengrz"
      }
    },
    {
      "cell_type": "markdown",
      "source": [
        "## ***4. Data Vizualization, Storytelling & Experimenting with charts : Understand the relationships between variables***"
      ],
      "metadata": {
        "id": "GF8Ens_Soomf"
      }
    },
    {
      "cell_type": "markdown",
      "source": [
        "#### Chart - 1"
      ],
      "metadata": {
        "id": "0wOQAZs5pc--"
      }
    },
    {
      "cell_type": "code",
      "source": [
        "# Chart - 1 visualization code"
      ],
      "metadata": {
        "id": "7v_ESjsspbW7"
      },
      "execution_count": null,
      "outputs": []
    },
    {
      "cell_type": "code",
      "source": [
        "labels = ['False', 'True']\n",
        "sizes = data['Churn'].value_counts(sort = True)\n",
        "\n",
        "colors = [\"#ffb3b3\",\"#C2C4E2\"]\n",
        "explode = (0.05,0) \n",
        " \n",
        "plt.figure(figsize=(7,7))\n",
        "plt.suptitle(\"Number of Targets in the dataset\",y=0.9, size=18, weight='bold')\n",
        "plt.pie(sizes, explode=explode, labels=labels, colors=colors, autopct='%1.1f%%', shadow=True, \n",
        "        startangle=90, textprops={\"fontsize\":20})\n",
        "\n",
        "plt.show()"
      ],
      "metadata": {
        "id": "8MK8Wnw8xuan"
      },
      "execution_count": null,
      "outputs": []
    },
    {
      "cell_type": "markdown",
      "source": [
        "##### 1. Why did you pick the specific chart?"
      ],
      "metadata": {
        "id": "K5QZ13OEpz2H"
      }
    },
    {
      "cell_type": "markdown",
      "source": [
        "The “pie chart” is also known as a “circle chart”, dividing the circular statistical graphic into sectors or sections to illustrate the numerical problems. Each sector denotes a proportionate part of the whole. To find out the composition of something, Pie-chart works the best at that time. In most cases, pie charts replace other graphs like the bar graph, line plots, histograms, etc."
      ],
      "metadata": {
        "id": "XESiWehPqBRc"
      }
    },
    {
      "cell_type": "markdown",
      "source": [
        "##### 2. What is/are the insight(s) found from the chart?"
      ],
      "metadata": {
        "id": "lQ7QKXXCp7Bj"
      }
    },
    {
      "cell_type": "markdown",
      "source": [
        "85.5 % customers cancelled the subscription and remain will take subscription"
      ],
      "metadata": {
        "id": "C_j1G7yiqdRP"
      }
    },
    {
      "cell_type": "markdown",
      "source": [
        "##### 3. Will the gained insights help creating a positive business impact? \n",
        "Are there any insights that lead to negative growth? Justify with specific reason."
      ],
      "metadata": {
        "id": "448CDAPjqfQr"
      }
    },
    {
      "cell_type": "markdown",
      "source": [
        "According to pie chart have simply visualize for custome subscription take or camcelled its hellpful to  take decision and analysis why customer cancelled the subscription and those customer who have accpted suv=bscription any specifuce reason or anythins so same plan we have applied on cancelled customer. "
      ],
      "metadata": {
        "id": "3cspy4FjqxJW"
      }
    },
    {
      "cell_type": "markdown",
      "source": [
        "#### Chart - 2"
      ],
      "metadata": {
        "id": "KSlN3yHqYklG"
      }
    },
    {
      "cell_type": "code",
      "source": [
        "# Chart - 2 visualization code"
      ],
      "metadata": {
        "id": "R4YgtaqtYklH"
      },
      "execution_count": null,
      "outputs": []
    },
    {
      "cell_type": "code",
      "source": [
        "ax = plt.figure(figsize=(10,10))\n",
        "plt.subplot(2,2,1)\n",
        "sns.countplot(data = data , x = \"Voice mail plan\" , palette=\"Reds\", edgecolor='k')\n",
        "plt.title(\"Count Plot for Voice mail plan\" , size=18, fontweight='bold', fontfamily='monospace')\n",
        "plt.xlabel(\"Voice mail plan\", size=13, fontweight='light', fontfamily='monospace')\n",
        "plt.ylabel('')\n",
        "plt.subplot(2,2,2)\n",
        "sns.countplot(data = data , x = \"International plan\" , palette=\"Reds\", edgecolor='k')\n",
        "plt.title(\"Count Plot for International plan\" , size=18, fontweight='bold', fontfamily='monospace')\n",
        "plt.xlabel(\"International plan\", size=13, fontweight='light', fontfamily='monospace')\n",
        "plt.ylabel('')\n",
        "plt.subplot(2,2,(3,4))\n",
        "sns.countplot(data = data , x = \"State\" , palette=\"Reds\", edgecolor='k')\n",
        "plt.title(\"Count Plot for State\" , size=18, fontweight='bold', fontfamily='monospace')\n",
        "plt.xlabel(\"State\", size=13, fontweight='light', fontfamily='monospace')\n",
        "plt.xticks(rotation= 'vertical')\n",
        "plt.ylabel('')\n",
        "plt.tight_layout()\n",
        "plt.show()"
      ],
      "metadata": {
        "id": "KyTKIkZgy-xw"
      },
      "execution_count": null,
      "outputs": []
    },
    {
      "cell_type": "markdown",
      "source": [
        "##### 1. Why did you pick the specific chart?"
      ],
      "metadata": {
        "id": "t6dVpIINYklI"
      }
    },
    {
      "cell_type": "markdown",
      "source": [
        "Bar plot is a good way to visualilize count for unique variable from columns"
      ],
      "metadata": {
        "id": "5aaW0BYyYklI"
      }
    },
    {
      "cell_type": "markdown",
      "source": [
        "##### 2. What is/are the insight(s) found from the chart?"
      ],
      "metadata": {
        "id": "ijmpgYnKYklI"
      }
    },
    {
      "cell_type": "markdown",
      "source": [
        "WV seemed to be mostly customer belong to WV State,International plan get less as compared to to voice mail plan \n",
        "\n"
      ],
      "metadata": {
        "id": "PSx9atu2YklI"
      }
    },
    {
      "cell_type": "markdown",
      "source": [
        "*italicized text*##### 3. Will the gained insights help creating a positive business impact? \n",
        "Are there any insights that lead to negative growth? Justify with specific reason."
      ],
      "metadata": {
        "id": "-JiQyfWJYklI"
      }
    },
    {
      "cell_type": "markdown",
      "source": [
        "Mostly customer blong to WV State, we have more chance to customer get subscription as same state"
      ],
      "metadata": {
        "id": "BcBbebzrYklV"
      }
    },
    {
      "cell_type": "markdown",
      "source": [
        "#### Chart - 3"
      ],
      "metadata": {
        "id": "EM7whBJCYoAo"
      }
    },
    {
      "cell_type": "code",
      "source": [
        "# Chart - 3 visualization code"
      ],
      "metadata": {
        "id": "t6GMdE67YoAp"
      },
      "execution_count": null,
      "outputs": []
    },
    {
      "cell_type": "code",
      "source": [
        "fig, axes = plt.subplots(nrows=2, ncols=2, figsize=(20,19))\n",
        "sns.boxplot(data=data,x='Churn',y='Total calls',hue='International plan',ax=axes[0][0]).set(title=\"Distribution of Churn vs Total calls by International plan\")\n",
        "sns.boxplot(data=data,x='Churn',y='Total charge',hue='Voice mail plan',ax=axes[0][1]).set(title=\"Distribution of Churn vs Total charge by Voice mail plan\")\n",
        "sns.boxplot(data=data,x='Churn',y='Total minutes',hue='International plan',ax=axes[1][0]).set(title=\"Distribution of Churn vs Total minutes by International plan\")\n",
        "sns.boxplot(data=data,x='Churn',y='Account length',hue='Voice mail plan',ax=axes[1][1]).set(title=\"Distribution of Churn vs Account length by Voice mail plan\")\n",
        "plt.show()\n"
      ],
      "metadata": {
        "id": "dlQavDAQD-NI"
      },
      "execution_count": null,
      "outputs": []
    },
    {
      "cell_type": "markdown",
      "source": [
        "##### 1. Why did you pick the specific chart?"
      ],
      "metadata": {
        "id": "fge-S5ZAYoAp"
      }
    },
    {
      "cell_type": "markdown",
      "source": [
        "Compare the medians of box plots Compare the respective medians of each box plot. ...\n",
        "Compare the interquartile ranges and whiskers of box plots Compare the interquartile ranges (that is, the box lengths), to examine how the data is dispersed between each sample. ..."
      ],
      "metadata": {
        "id": "5dBItgRVYoAp"
      }
    },
    {
      "cell_type": "markdown",
      "source": [
        "##### 2. What is/are the insight(s) found from the chart?"
      ],
      "metadata": {
        "id": "85gYPyotYoAp"
      }
    },
    {
      "cell_type": "markdown",
      "source": [
        "More than 50% of the subscription  in Total charge is atleast more than 50% of the fares in Total minutes and Total calls\n",
        "\n"
      ],
      "metadata": {
        "id": "4jstXR6OYoAp"
      }
    },
    {
      "cell_type": "markdown",
      "source": [
        "##### 3. Will the gained insights help creating a positive business impact? \n",
        "Are there any insights that lead to negative growth? Justify with specific reason."
      ],
      "metadata": {
        "id": "RoGjAbkUYoAp"
      }
    },
    {
      "cell_type": "markdown",
      "source": [
        "Answer Here"
      ],
      "metadata": {
        "id": "zfJ8IqMcYoAp"
      }
    },
    {
      "cell_type": "markdown",
      "source": [
        "#### Chart - 4"
      ],
      "metadata": {
        "id": "4Of9eVA-YrdM"
      }
    },
    {
      "cell_type": "code",
      "source": [
        "# Chart - 4 visualization code"
      ],
      "metadata": {
        "id": "irlUoxc8YrdO"
      },
      "execution_count": null,
      "outputs": []
    },
    {
      "cell_type": "code",
      "source": [
        "sns.countplot(data = data , x = \"Voice mail plan\" , hue='Churn')\n",
        "plt.show()\n",
        "sns.countplot(data = data , x = \"International plan\" , hue='Churn')\n",
        "plt.show()"
      ],
      "metadata": {
        "id": "uIEws6Xt8nmQ"
      },
      "execution_count": null,
      "outputs": []
    },
    {
      "cell_type": "markdown",
      "source": [
        "##### 1. Why did you pick the specific chart?"
      ],
      "metadata": {
        "id": "iky9q4vBYrdO"
      }
    },
    {
      "cell_type": "markdown",
      "source": [
        "The comparisons between different variables are easy and convenient.\n",
        "It is the easiest diagram to prepare and does not require too much effort.\n",
        "It is the most widely used method of data representation. Therefore, it is used by various industries.\n",
        "It is used to compare data sets. Data sets are independent of one another.\n",
        "It helps in studying patterns over long periods of time."
      ],
      "metadata": {
        "id": "aJRCwT6DYrdO"
      }
    },
    {
      "cell_type": "markdown",
      "source": [
        "##### 2. What is/are the insight(s) found from the chart?"
      ],
      "metadata": {
        "id": "F6T5p64dYrdO"
      }
    },
    {
      "cell_type": "markdown",
      "source": [
        "AS above graph those customer who have already take voice mail plan is not much interested to take subscription but customer who take international plan is favour of taking subscription "
      ],
      "metadata": {
        "id": "Xx8WAJvtYrdO"
      }
    },
    {
      "cell_type": "markdown",
      "source": [
        "#### Chart - 5"
      ],
      "metadata": {
        "id": "bamQiAODYuh1"
      }
    },
    {
      "cell_type": "code",
      "source": [
        "# Chart - 5 visualization code"
      ],
      "metadata": {
        "id": "TIJwrbroYuh3"
      },
      "execution_count": null,
      "outputs": []
    },
    {
      "cell_type": "code",
      "source": [
        "#Churn rate by State\n",
        "data.groupby([\"State\", \"Churn\"]).size().unstack().plot(kind='bar', stacked=True, figsize=(30,10))\n"
      ],
      "metadata": {
        "id": "p9pCV6tllIMu"
      },
      "execution_count": null,
      "outputs": []
    },
    {
      "cell_type": "markdown",
      "source": [
        "##### 1. Why did you pick the specific chart?"
      ],
      "metadata": {
        "id": "QHF8YVU7Yuh3"
      }
    },
    {
      "cell_type": "markdown",
      "source": [
        "A bar plot or bar chart is a graph that represents the category of data with rectangular bars with lengths and heights that is proportional to the values which they represent. The bar plots can be plotted horizontally or vertically. A bar chart describes the comparisons between the discrete categories. One of the axis of the plot represents the specific categories being compared, while the other axis represents the measured values corresponding to those categories."
      ],
      "metadata": {
        "id": "dcxuIMRPYuh3"
      }
    },
    {
      "cell_type": "markdown",
      "source": [
        "##### 2. What is/are the insight(s) found from the chart?"
      ],
      "metadata": {
        "id": "GwzvFGzlYuh3"
      }
    },
    {
      "cell_type": "markdown",
      "source": [
        "According to  data some state we have focused like 'MA', 'MD', 'ME', 'MI', 'NM' , 'NV', 'MO', 'MS', 'MT'  for increase chance in this state is more as compared to other state for taking subscription and 'AK', 'AL', 'DC', 'HI', 'IA', 'IL', 'LA', 'AZ' arethose state customers not interested to take subscription"
      ],
      "metadata": {
        "id": "uyqkiB8YYuh3"
      }
    },
    {
      "cell_type": "markdown",
      "source": [
        "##### 3. Will the gained insights help creating a positive business impact? \n",
        "Are there any insights that lead to negative growth? Justify with specific reason."
      ],
      "metadata": {
        "id": "qYpmQ266Yuh3"
      }
    },
    {
      "cell_type": "markdown",
      "source": [],
      "metadata": {
        "id": "_WtzZ_hCYuh4"
      }
    },
    {
      "cell_type": "markdown",
      "source": [
        "Account length nis not more corelated to customer taking subscription like 'WV' state have many customer but onlt 3~4 % customer taking subscription so does not much more time spend on account length"
      ],
      "metadata": {
        "id": "OH-pJp9IphqM"
      }
    },
    {
      "cell_type": "code",
      "source": [
        "# Chart - 6 visualization code"
      ],
      "metadata": {
        "id": "kuRf4wtuphqN"
      },
      "execution_count": null,
      "outputs": []
    },
    {
      "cell_type": "code",
      "source": [
        "#Churn rate by Area code\n",
        "#Churn rate by Customer service call\n",
        "data.groupby([\"Area code\", \"Churn\"]).size().unstack().plot(kind='bar', stacked=True, figsize=(5,5))\n",
        "data.groupby([\"Customer service calls\", \"Churn\"]).size().unstack().plot(kind='bar', stacked=True, figsize=(5,5)) "
      ],
      "metadata": {
        "id": "odlXNwhCi0GT"
      },
      "execution_count": null,
      "outputs": []
    },
    {
      "cell_type": "markdown",
      "source": [
        "##### 1. Why did you pick the specific chart?"
      ],
      "metadata": {
        "id": "bbFf2-_FphqN"
      }
    },
    {
      "cell_type": "markdown",
      "source": [
        "The comparisons between different variables are easy and convenient.\n",
        "It is the easiest diagram to prepare and does not require too much effort.\n",
        "It is the most widely used method of data representation. Therefore, it is used by various industries.\n",
        "It is used to compare data sets. Data sets are independent of one another.\n",
        "It helps in studying patterns over long periods of time."
      ],
      "metadata": {
        "id": "loh7H2nzphqN"
      }
    },
    {
      "cell_type": "markdown",
      "source": [
        "##### 2. What is/are the insight(s) found from the chart?"
      ],
      "metadata": {
        "id": "_ouA3fa0phqN"
      }
    },
    {
      "cell_type": "markdown",
      "source": [
        "As compared to other '415' area code have more chance to accept subscription and '0',''1','2' & '4'  cyustomer service call we have focusse on this variables and '3', '7' not interested to accept subscription"
      ],
      "metadata": {
        "id": "VECbqPI7phqN"
      }
    },
    {
      "cell_type": "markdown",
      "source": [
        "##### 3. Will the gained insights help creating a positive business impact? \n",
        "Are there any insights that lead to negative growth? Justify with specific reason."
      ],
      "metadata": {
        "id": "Seke61FWphqN"
      }
    },
    {
      "cell_type": "markdown",
      "source": [
        " we have save our time to those customer not interested for taking subscription and 'Time is money' "
      ],
      "metadata": {
        "id": "DW4_bGpfphqN"
      }
    },
    {
      "cell_type": "markdown",
      "source": [
        "#### Chart - 7"
      ],
      "metadata": {
        "id": "PIIx-8_IphqN"
      }
    },
    {
      "cell_type": "code",
      "source": [
        "# Chart - 7 visualization code"
      ],
      "metadata": {
        "id": "lqAIGUfyphqO"
      },
      "execution_count": null,
      "outputs": []
    },
    {
      "cell_type": "code",
      "source": [
        "plt.figure(figsize=(15, 10))\n",
        "sns.countplot(x='Customer service calls', hue='Churn', data=data, order = data['Customer service calls'].value_counts().index)"
      ],
      "metadata": {
        "id": "P__NYKakm0Em"
      },
      "execution_count": null,
      "outputs": []
    },
    {
      "cell_type": "markdown",
      "source": [
        "##### 1. Why did you pick the specific chart?"
      ],
      "metadata": {
        "id": "t27r6nlMphqO"
      }
    },
    {
      "cell_type": "markdown",
      "source": [
        "The comparisons between different variables are easy and convenient.\n",
        "It is the easiest diagram to prepare and does not require too much effort.\n",
        "It is the most widely used method of data representation. Therefore, it is used by various industries.\n",
        "It is used to compare data sets. Data sets are independent of one another.\n",
        "It helps in studying patterns over long periods of time."
      ],
      "metadata": {
        "id": "iv6ro40sphqO"
      }
    },
    {
      "cell_type": "markdown",
      "source": [
        "##### 2. What is/are the insight(s) found from the chart?"
      ],
      "metadata": {
        "id": "r2jJGEOYphqO"
      }
    },
    {
      "cell_type": "markdown",
      "source": [
        "'0',''1','2' & '4'  cyustomer service call we have focusse on this variables and '3', '7' not interested to accept subscription"
      ],
      "metadata": {
        "id": "Po6ZPi4hphqO"
      }
    },
    {
      "cell_type": "markdown",
      "source": [
        "##### 3. Will the gained insights help creating a positive business impact? \n",
        "Are there any insights that lead to negative growth? Justify with specific reason."
      ],
      "metadata": {
        "id": "b0JNsNcRphqO"
      }
    },
    {
      "cell_type": "markdown",
      "source": [
        "Yes we adopt only those service calls who have effcted "
      ],
      "metadata": {
        "id": "xvSq8iUTphqO"
      }
    },
    {
      "cell_type": "markdown",
      "source": [
        "#### Chart - 8"
      ],
      "metadata": {
        "id": "BZR9WyysphqO"
      }
    },
    {
      "cell_type": "code",
      "source": [
        "# Chart - 8 visualization code"
      ],
      "metadata": {
        "id": "TdPTWpAVphqO"
      },
      "execution_count": null,
      "outputs": []
    },
    {
      "cell_type": "code",
      "source": [
        "data['Total calls'] = data['Total day calls'] + data['Total eve calls'] + data['Total night calls'] + data['Total intl calls']\n",
        "data['Total charge'] = data['Total day charge'] + data['Total eve charge'] + data['Total night charge'] + data['Total intl charge']\n",
        "test = ['Total calls', 'Total minutes', 'Total charge']\n",
        "sns.pairplot(data[test]);"
      ],
      "metadata": {
        "id": "9sU_U5XnqdWg"
      },
      "execution_count": null,
      "outputs": []
    },
    {
      "cell_type": "markdown",
      "source": [
        "##### 1. Why did you pick the specific chart?"
      ],
      "metadata": {
        "id": "jj7wYXLtphqO"
      }
    },
    {
      "cell_type": "markdown",
      "source": [
        "Positive Correlation. When the points in the graph are rising, moving from left to right, then the scatter plot shows a positive correlation.\n",
        "Negative Correlation. When the points in the scatter graph fall while moving left to right, then it is called a negative correlation."
      ],
      "metadata": {
        "id": "Ob8u6rCTphqO"
      }
    },
    {
      "cell_type": "markdown",
      "source": [
        "##### 2. What is/are the insight(s) found from the chart?"
      ],
      "metadata": {
        "id": "eZrbJ2SmphqO"
      }
    },
    {
      "cell_type": "markdown",
      "source": [
        "As according to abve graph 'Total calls', 'Total charge', 'Tital minutes' are positive correlation as graph move left to right shows positive relation highly correlated betwee them"
      ],
      "metadata": {
        "id": "mZtgC_hjphqO"
      }
    },
    {
      "cell_type": "markdown",
      "source": [
        "##### 3. Will the gained insights help creating a positive business impact? \n",
        "Are there any insights that lead to negative growth? Justify with specific reason."
      ],
      "metadata": {
        "id": "rFu4xreNphqO"
      }
    },
    {
      "cell_type": "markdown",
      "source": [
        "All three variables are dependent on each other so we have one vars other two also increase gradually"
      ],
      "metadata": {
        "id": "ey_0qi68phqO"
      }
    },
    {
      "cell_type": "markdown",
      "source": [
        "#### Chart - 9"
      ],
      "metadata": {
        "id": "YJ55k-q6phqO"
      }
    },
    {
      "cell_type": "code",
      "source": [
        "# Chart - 9 visualization code"
      ],
      "metadata": {
        "id": "B2aS4O1ophqO"
      },
      "execution_count": null,
      "outputs": []
    },
    {
      "cell_type": "code",
      "source": [
        "fig, axes = plt.subplots(nrows=1, ncols=3, figsize=(15,3))\n",
        "sns.stripplot(x='Churn', y='Account length', data=data,ax=axes[0])\n",
        "sns.boxplot(x='Churn',y='Account length',hue='Churn',data=data, palette='rainbow',ax=axes[1])\n",
        "sns.histplot(data=data, x='Account length',ax=axes[2],hue='Churn',bins=100,kde=True,element='poly')\n",
        "plt.show()\n",
        "\n",
        "\n"
      ],
      "metadata": {
        "id": "txWdlMIItEYl"
      },
      "execution_count": null,
      "outputs": []
    },
    {
      "cell_type": "markdown",
      "source": [
        "##### 1. Why did you pick the specific chart?"
      ],
      "metadata": {
        "id": "gCFgpxoyphqP"
      }
    },
    {
      "cell_type": "markdown",
      "source": [
        "strip plot and box plot is the best way to get a quick overview of our  relationships between categorical value and numerical values "
      ],
      "metadata": {
        "id": "TVxDimi2phqP"
      }
    },
    {
      "cell_type": "markdown",
      "source": [
        "##### 2. What is/are the insight(s) found from the chart?"
      ],
      "metadata": {
        "id": "OVtJsKN_phqQ"
      }
    },
    {
      "cell_type": "markdown",
      "source": [
        "When Account length is  (more than than 50), those Customer had very high probability of take subscription  as compared to customers with Account length is less"
      ],
      "metadata": {
        "id": "ngGi97qjphqQ"
      }
    },
    {
      "cell_type": "markdown",
      "source": [
        "#### Chart - 10"
      ],
      "metadata": {
        "id": "U2RJ9gkRphqQ"
      }
    },
    {
      "cell_type": "code",
      "source": [
        "# Chart - 10 visualization code"
      ],
      "metadata": {
        "id": "GM7a4YP4phqQ"
      },
      "execution_count": null,
      "outputs": []
    },
    {
      "cell_type": "code",
      "source": [
        "sns.set(style=\"darkgrid\")\n",
        "sns.kdeplot(data=data['Account length'], shade=True)\n",
        "\n"
      ],
      "metadata": {
        "id": "2enWCAUHHudZ"
      },
      "execution_count": null,
      "outputs": []
    },
    {
      "cell_type": "markdown",
      "source": [
        "##### 1. Why did you pick the specific chart?"
      ],
      "metadata": {
        "id": "1M8mcRywphqQ"
      }
    },
    {
      "cell_type": "markdown",
      "source": [
        "Negotiate contracts: Normal distribution can help a company create fair and profitable business contracts. ...\n",
        "Purchase materials: Material prices change frequently, so understanding how the average price changes can help you find fairly priced materials for production. ...\n",
        "Market products: You can make deciding the price point for products or services easier by using normal distribution. ..."
      ],
      "metadata": {
        "id": "8agQvks0phqQ"
      }
    },
    {
      "cell_type": "markdown",
      "source": [
        "##### 2. What is/are the insight(s) found from the chart?"
      ],
      "metadata": {
        "id": "tgIPom80phqQ"
      }
    },
    {
      "cell_type": "markdown",
      "source": [
        "The mean, median and mode are exactly the same.\n",
        "The distribution is symmetric about the mean—half the values fall below the mean and half above the mean.\n",
        "The distribution can be described by two values: the mean and the standard deviation. means Account length spread as same mean as uniformly"
      ],
      "metadata": {
        "id": "Qp13pnNzphqQ"
      }
    },
    {
      "cell_type": "markdown",
      "source": [
        "##### 3. Will the gained insights help creating a positive business impact? \n",
        "Are there any insights that lead to negative growth? Justify with specific reason."
      ],
      "metadata": {
        "id": "JMzcOPDDphqR"
      }
    },
    {
      "cell_type": "markdown",
      "source": [
        "Companies may analyze different calculations or statistical methods when making strategic business decisions. A common analysis method is a normal distribution graph or chart that assesses how variables in a dataset relate to the data's average. Understanding how this distribution works can help you make informed business decisions."
      ],
      "metadata": {
        "id": "R4Ka1PC2phqR"
      }
    },
    {
      "cell_type": "markdown",
      "source": [
        "#### Chart - 11"
      ],
      "metadata": {
        "id": "x-EpHcCOp1ci"
      }
    },
    {
      "cell_type": "code",
      "source": [
        "# Chart - 11 visualization code"
      ],
      "metadata": {
        "id": "mAQTIvtqp1cj"
      },
      "execution_count": null,
      "outputs": []
    },
    {
      "cell_type": "code",
      "source": [
        "sns.lmplot(x='Total minutes', y='Total calls', data=data, hue='Churn', palette='Set1', scatter_kws={'alpha':0.3})\n",
        "plt.show()"
      ],
      "metadata": {
        "id": "jgvUL-DCILO3"
      },
      "execution_count": null,
      "outputs": []
    },
    {
      "cell_type": "markdown",
      "source": [
        "##### 1. Why did you pick the specific chart?"
      ],
      "metadata": {
        "id": "X_VqEhTip1ck"
      }
    },
    {
      "cell_type": "markdown",
      "source": [
        "ImPlot is well suited for visualizing program data in real-time or creating interactive plots, and requires minimal code to integrate. Just like ImGui, it does not burden the end user with GUI state management, avoids STL containers and , and has no external dependencies except for ImGui itself."
      ],
      "metadata": {
        "id": "-vsMzt_np1ck"
      }
    },
    {
      "cell_type": "markdown",
      "source": [
        "##### 2. What is/are the insight(s) found from the chart?"
      ],
      "metadata": {
        "id": "8zGJKyg5p1ck"
      }
    },
    {
      "cell_type": "markdown",
      "source": [
        "We can see the Total minutes of the above-mentioned values with each target show a specific trend. We can also spot outliers. Let's have a look at outliers on a more suitable plot."
      ],
      "metadata": {
        "id": "ZYdMsrqVp1ck"
      }
    },
    {
      "cell_type": "markdown",
      "source": [
        "##### 3. Will the gained insights help creating a positive business impact? \n",
        "Are there any insights that lead to negative growth? Justify with specific reason."
      ],
      "metadata": {
        "id": "PVzmfK_Ep1ck"
      }
    },
    {
      "cell_type": "markdown",
      "source": [
        "Improving The Decision-Making Process. One of the primary benefits of BI is …\n",
        "Uncovering Fresh Business Insights. The second of our business analytics …\n",
        "Boosting Productivity. Today’s consumers crave ratings, opinions, and …\n",
        "Increasing Subcription"
      ],
      "metadata": {
        "id": "druuKYZpp1ck"
      }
    },
    {
      "cell_type": "markdown",
      "source": [
        "#### Chart - 12"
      ],
      "metadata": {
        "id": "n3dbpmDWp1ck"
      }
    },
    {
      "cell_type": "code",
      "source": [
        "# Chart - 12 visualization code"
      ],
      "metadata": {
        "id": "bwevp1tKp1ck"
      },
      "execution_count": null,
      "outputs": []
    },
    {
      "cell_type": "code",
      "source": [
        "def scatter(x,fig):\n",
        "    plt.subplot(5,2,fig)\n",
        "    plt.scatter(data[x],data['Total charge'])\n",
        "    plt.title(x+' vs Total charge')\n",
        "    plt.ylabel('Total charge')\n",
        "    plt.xlabel(x)\n",
        "\n",
        "plt.figure(figsize=(10,20))\n",
        "\n",
        "scatter('Total minutes', 1)\n",
        "scatter('Total calls', 2)\n",
        "\n",
        "plt.tight_layout()"
      ],
      "metadata": {
        "id": "ho0g6tulZ0aK"
      },
      "execution_count": null,
      "outputs": []
    },
    {
      "cell_type": "markdown",
      "source": [
        "##### 1. Why did you pick the specific chart?"
      ],
      "metadata": {
        "id": "ylSl6qgtp1ck"
      }
    },
    {
      "cell_type": "markdown",
      "source": [
        " Demonstration of the relationship between two variables The most common use of the scatter plot is to display the relationship between two variables and observe the nature of the relationship. ...\n",
        " Identification of correlational relationships Another common use of scatter plots is that they enable the identification of correlational relationships. ...\n",
        "Identification of data patterns\n",
        "\n"
      ],
      "metadata": {
        "id": "m2xqNkiQp1ck"
      }
    },
    {
      "cell_type": "markdown",
      "source": [
        "##### 2. What is/are the insight(s) found from the chart?"
      ],
      "metadata": {
        "id": "ZWILFDl5p1ck"
      }
    },
    {
      "cell_type": "markdown",
      "source": [
        "A scatter diagram is one of seven core tools in project management. s in an organization. Scatter diagrams are graphical statistical tools. They are simple to use and help in improving business processes."
      ],
      "metadata": {
        "id": "x-lUsV2mp1ck"
      }
    },
    {
      "cell_type": "markdown",
      "source": [
        "#### Chart - 13"
      ],
      "metadata": {
        "id": "Ag9LCva-p1cl"
      }
    },
    {
      "cell_type": "code",
      "source": [
        "# Chart - 13 visualization code"
      ],
      "metadata": {
        "id": "EUfxeq9-p1cl"
      },
      "execution_count": null,
      "outputs": []
    },
    {
      "cell_type": "code",
      "source": [
        "def_cnt = (data.Churn.value_counts(normalize=True)*100)\n",
        "def_cnt.plot.bar(figsize=(6,6))\n",
        "plt.xticks(fontsize=12, rotation=0)\n",
        "plt.yticks(fontsize=12)\n",
        "plt.title(\"Probability Of Subscription\", fontsize=15)\n",
        "for x,y in zip([0,1],def_cnt):\n",
        "    plt.text(x,y,y,fontsize=12)\n",
        "plt.show()"
      ],
      "metadata": {
        "id": "ZSGu5nIwGBtS"
      },
      "execution_count": null,
      "outputs": []
    },
    {
      "cell_type": "markdown",
      "source": [
        "##### 1. Why did you pick the specific chart?"
      ],
      "metadata": {
        "id": "E6MkPsBcp1cl"
      }
    },
    {
      "cell_type": "markdown",
      "source": [
        "The comparisons between different variables are easy and convenient.\n",
        "It is the easiest diagram to prepare and does not require too much effort.\n",
        "It is the most widely used method of data representation. Therefore, it is used by various industries.\n",
        "It is used to compare data sets. Data sets are independent of one another.\n",
        "It helps in studying patterns over long periods of time.\n"
      ],
      "metadata": {
        "id": "V22bRsFWp1cl"
      }
    },
    {
      "cell_type": "markdown",
      "source": [
        "##### 2. What is/are the insight(s) found from the chart?"
      ],
      "metadata": {
        "id": "2cELzS2fp1cl"
      }
    },
    {
      "cell_type": "markdown",
      "source": [
        "We clearly seen hat probability of cancelled subscription is morethan that of probability of accept subscription"
      ],
      "metadata": {
        "id": "ozQPc2_Ip1cl"
      }
    },
    {
      "cell_type": "markdown",
      "source": [
        "##### 3. Will the gained insights help creating a positive business impact? \n",
        "Are there any insights that lead to negative growth? Justify with specific reason."
      ],
      "metadata": {
        "id": "3MPXvC8up1cl"
      }
    },
    {
      "cell_type": "markdown",
      "source": [
        "Analysts use bar charts in technical analysis to help monitor Churn trends, volatility, security movement indicators, and more. These are used similarly to other charts in technical analysis like the Japanese candlestick to help trading analysts stay educated on their current or potential future investments."
      ],
      "metadata": {
        "id": "GL8l1tdLp1cl"
      }
    },
    {
      "cell_type": "markdown",
      "source": [
        "#### Chart - 14 - Correlation Heatmap"
      ],
      "metadata": {
        "id": "NC_X3p0fY2L0"
      }
    },
    {
      "cell_type": "code",
      "source": [
        "# Correlation Heatmap visualization code\n",
        "corr = data.corr()\n",
        "\n",
        "# plot the heatmap\n",
        "fig = plt.figure(figsize=(14,13))\n",
        "sns.heatmap(corr, annot=True)\n",
        "\n"
      ],
      "metadata": {
        "id": "xyC9zolEZNRQ"
      },
      "execution_count": null,
      "outputs": []
    },
    {
      "cell_type": "markdown",
      "source": [
        "##### 1. Why did you pick the specific chart?"
      ],
      "metadata": {
        "id": "UV0SzAkaZNRQ"
      }
    },
    {
      "cell_type": "markdown",
      "source": [
        "In my opinion, this heatmap is the best way to get a quick overview of our variable' and its relationships. (Thank you @seaborn!)\n",
        "\n"
      ],
      "metadata": {
        "id": "DVPuT8LYZNRQ"
      }
    },
    {
      "cell_type": "markdown",
      "source": [
        "##### 2. What is/are the insight(s) found from the chart?"
      ],
      "metadata": {
        "id": "YPEH6qLeZNRQ"
      }
    },
    {
      "cell_type": "markdown",
      "source": [
        "At first sight, there are three Pink colored squares that get my attention. The first one refers to the 'Total day charges' and 'Total day minutes' and 'Customer service call' variables are correlated with churn values, and the second one refers to the 'Total day charges' and 'Total day minutes' variables. Both cases show how significant the correlation is between these variables. Actually, this correlation is so strong that it can indicate a situation of multicollinearity. If we think about these variables, we can conclude that they give almost the same information so multicollinearity really occurs. Heatmaps are great to detect this kind of situations and in problems dominated by feature selection, like ours, they are an essential tool."
      ],
      "metadata": {
        "id": "bfSqtnDqZNRR"
      }
    },
    {
      "cell_type": "markdown",
      "source": [
        "#### Chart - 15 - Pair Plot "
      ],
      "metadata": {
        "id": "q29F0dvdveiT"
      }
    },
    {
      "cell_type": "code",
      "source": [
        "# Pair Plot visualization code"
      ],
      "metadata": {
        "id": "o58-TEIhveiU"
      },
      "execution_count": null,
      "outputs": []
    },
    {
      "cell_type": "code",
      "source": [
        "numeric = ['Account length', 'Number vmail messages', 'Total day minutes', \n",
        "           'Total day calls', 'Total day charge', 'Total eve minutes','Total eve calls', \n",
        "           'Total eve charge', 'Total night minutes', 'Total night calls', 'Total night charge', \n",
        "           'Total intl minutes', 'Total intl calls', 'Total intl charge', 'Customer service calls']\n",
        "sns.pairplot(data[numeric]);"
      ],
      "metadata": {
        "id": "q5mEx9khtlgV"
      },
      "execution_count": null,
      "outputs": []
    },
    {
      "cell_type": "markdown",
      "source": [
        "##### 1. Why did you pick the specific chart?"
      ],
      "metadata": {
        "id": "EXh0U9oCveiU"
      }
    },
    {
      "cell_type": "markdown",
      "source": [
        "Although we already know some of the main figures, this mega scatter plot gives us a reasonable idea about variables relationships."
      ],
      "metadata": {
        "id": "eMmPjTByveiU"
      }
    },
    {
      "cell_type": "markdown",
      "source": [
        "##### 2. What is/are the insight(s) found from the chart?"
      ],
      "metadata": {
        "id": "22aHeOlLveiV"
      }
    },
    {
      "cell_type": "markdown",
      "source": [
        "One of the figures we may find interesting is the one between 'Total eve charge' and 'Total day charge' & 'Total night charge' & 'Account length' In this figure we can see the dots drawing a linear line, which almost acts like a border. It totally makes sense that the majority of the dots stay below that line. Basement areas can be equal to the above ground living area, but it is not expected a basement area bigger than the above ground living area (unless you're trying to buy a bunker).\n",
        "\n",
        "The plot concerning 'Account length' and 'Total charges' can also make us think. In the bottom of the 'dots cloud', we see what almost appears to be a shy exponential function (be creative). We can also see this same tendency in the upper limit of the 'dots cloud' (be even more creative). A"
      ],
      "metadata": {
        "id": "uPQ8RGwHveiV"
      }
    },
    {
      "cell_type": "markdown",
      "source": [
        "## **5. Solution to Business Objective**"
      ],
      "metadata": {
        "id": "JcMwzZxoAimU"
      }
    },
    {
      "cell_type": "markdown",
      "source": [
        "#### What do you suggest the client to achieve Business Objective ? \n",
        "\n",
        "1.   International plan\n",
        "2.   Customer service calls\n",
        "\n",
        "\n",
        "Explain Briefly."
      ],
      "metadata": {
        "id": "8G2x9gOozGDZ"
      }
    },
    {
      "cell_type": "markdown",
      "source": [
        "# As we can see Visualization and variables for making business decision to decrease or stop customer from churning who are likely to churn. Telcom company can introduce 'International plan' to those customers who are likely to churn. Also, and 0,1,2,,4 customer service calls effected and Account length is bad impact on likely to accept subscription. Now, Business people can make decision on those most important preidctor variables. Since, we have use different models for predicting these feature variable and difference techniques for feature selection we are getting similar predicting variable but order is slightly different. Hence we recommend  Telecom company to consider these feature variables which are strong indicators to manage customer churn."
      ],
      "metadata": {
        "id": "pASKb0qOza21"
      }
    },
    {
      "cell_type": "markdown",
      "source": [
        " **Conclusion**\n",
        "\n",
        "\n",
        "\n",
        "We have 85.5% like to churn and other 14.5% not like\n",
        "\n",
        "Data set shows that some who have take international plan ae interested likely to churn\n",
        "Only 10% Customer  who take voice mail plan are like to churn\n",
        "There is no trend behaviour between state but state who have customer belong to average are interested to take subscription\n",
        "Churn rate graph are normally distributed about total charge and total call\n",
        "0,1,2, &4 customer service calls effected on churnrate on likely to churn \n",
        "We have maximum customer like to churn 'MA', 'MD', 'ME', 'MI', 'MO', 'MS', 'MT'\n",
        "\n"
      ],
      "metadata": {
        "id": "gCX9965dhzqZ"
      }
    }
  ]
}